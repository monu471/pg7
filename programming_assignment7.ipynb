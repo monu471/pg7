{
 "cells": [
  {
   "cell_type": "code",
   "execution_count": null,
   "id": "8dd428da",
   "metadata": {},
   "outputs": [],
   "source": [
    "# Write a Python Program to find sum of array?\n",
    "import array as arr"
   ]
  },
  {
   "cell_type": "code",
   "execution_count": null,
   "id": "3a70874e",
   "metadata": {},
   "outputs": [],
   "source": [
    "a = arr.array('i',[12,13,14,15])\n",
    "sum(a)\n"
   ]
  },
  {
   "cell_type": "code",
   "execution_count": null,
   "id": "35e6bee3",
   "metadata": {},
   "outputs": [],
   "source": [
    "# Write a Python Program to find largest element in an array?\n",
    "b = arr.array('i',[12,13,14,1123,9,6,64454,12227])\n",
    "c = sorted(b)\n",
    "print(\"max number is \",c[len(b)-1])\n",
    "        \n",
    "        \n",
    "    \n",
    "    "
   ]
  },
  {
   "cell_type": "code",
   "execution_count": null,
   "id": "73adec80",
   "metadata": {},
   "outputs": [],
   "source": [
    "# Write a Python Program for array rotation?\n",
    "b = int(input(\"enter no from u want to rotate\"))\n",
    "c = arr.array(\"i\",[1,5,6,3,8,9,7])\n",
    "d =arr.array(\"i\",[])\n",
    "f = arr.array(\"i\",[])\n",
    "for x in c[0:b:1]:\n",
    "        d.append(x)\n",
    "for i in c[b:len(c):1]:\n",
    "         f.append(i)\n",
    "print(f+d)\n",
    "\n",
    "        \n",
    "\n"
   ]
  },
  {
   "cell_type": "code",
   "execution_count": 5,
   "id": "fbbb94ab",
   "metadata": {},
   "outputs": [
    {
     "name": "stdout",
     "output_type": "stream",
     "text": [
      "5 6 52 36 12 10 "
     ]
    }
   ],
   "source": [
    "# Write a Python Program to Split the array and add the first part to the end?    \n",
    "def splitArr(arr, n, k): \n",
    "    for i in range(0, k): \n",
    "        x = arr[0]\n",
    "        for j in range(0, n-1):\n",
    "            arr[j] = arr[j + 1]\n",
    "          \n",
    "        arr[n-1] = x\n",
    "          \n",
    "  \n",
    "# main\n",
    "arr = [12, 10, 5, 6, 52, 36]\n",
    "n = len(arr)\n",
    "position = 2\n",
    "  \n",
    "splitArr(arr, n, position)\n",
    "  \n",
    "for i in range(0, n): \n",
    "    print(arr[i], end = ' ')\n",
    "    \n",
    "       \n",
    "    \n",
    "    \n",
    "    \n"
   ]
  },
  {
   "cell_type": "code",
   "execution_count": 17,
   "id": "a208cf09",
   "metadata": {},
   "outputs": [],
   "source": [
    "# Write a Python Program to check if given array is Monotonic?\n",
    "def isMonotonic(A):\n",
    "    return (all(A[i] <= A[i + 1] for i in range(len(A) - 1)) or\n",
    "            all(A[i] >= A[i + 1] for i in range(len(A) - 1)))\n",
    " \n",
    "        \n",
    "        "
   ]
  },
  {
   "cell_type": "code",
   "execution_count": null,
   "id": "09a265ee",
   "metadata": {},
   "outputs": [],
   "source": []
  }
 ],
 "metadata": {
  "kernelspec": {
   "display_name": "Python 3 (ipykernel)",
   "language": "python",
   "name": "python3"
  },
  "language_info": {
   "codemirror_mode": {
    "name": "ipython",
    "version": 3
   },
   "file_extension": ".py",
   "mimetype": "text/x-python",
   "name": "python",
   "nbconvert_exporter": "python",
   "pygments_lexer": "ipython3",
   "version": "3.9.12"
  }
 },
 "nbformat": 4,
 "nbformat_minor": 5
}
